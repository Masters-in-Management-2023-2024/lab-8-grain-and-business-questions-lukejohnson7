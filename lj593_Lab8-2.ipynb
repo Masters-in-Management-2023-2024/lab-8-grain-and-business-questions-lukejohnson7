{
  "cells": [
    {
      "cell_type": "markdown",
      "metadata": {
        "id": "sgoi6mxI2ogD"
      },
      "source": [
        "# Diamond Company Analytics Challenge\n",
        "\n",
        "**Time:** 35 minutes\n",
        "\n",
        "**Scenario:** You are the new data analyst at a prestigious diamond company. The CEO has called an urgent meeting and needs answers to critical business questions about the inventory.\n",
        "\n",
        "**Your Mission:** Analyze the diamond inventory data and provide insights to guide strategic decisions."
      ]
    },
    {
      "cell_type": "code",
      "execution_count": 1,
      "metadata": {
        "id": "f_12xMWB2ogF",
        "outputId": "02356976-4b7d-4064-9f7d-6fd57b3ff15f",
        "colab": {
          "base_uri": "https://localhost:8080/"
        }
      },
      "outputs": [
        {
          "output_type": "stream",
          "name": "stdout",
          "text": [
            "Loading diamonds dataset...\n",
            "Dataset loaded successfully!\n"
          ]
        }
      ],
      "source": [
        "import polars as pl\n",
        "\n",
        "# Load the diamonds dataset\n",
        "print(\"Loading diamonds dataset...\")\n",
        "df = pl.read_csv('https://raw.githubusercontent.com/pycaret/pycaret/master/datasets/diamond.csv')\n",
        "print(\"Dataset loaded successfully!\")"
      ]
    },
    {
      "cell_type": "markdown",
      "metadata": {
        "id": "fiG4uDng2ogG"
      },
      "source": [
        "## Section 1: Initial Inventory Assessment (5 minutes)\n",
        "\n",
        "The CEO walks in: \"Before we dive into specifics, I need to understand what we're working with. Give me the basics about our inventory database.\""
      ]
    },
    {
      "cell_type": "markdown",
      "metadata": {
        "id": "j1XibbqB2ogH"
      },
      "source": [
        "### Question 1: \"How extensive is our inventory database?\"\n",
        "\n",
        "The CEO needs to know the scale of data you're analyzing."
      ]
    },
    {
      "cell_type": "code",
      "execution_count": 2,
      "metadata": {
        "id": "lSJLe5J-2ogH",
        "colab": {
          "base_uri": "https://localhost:8080/"
        },
        "outputId": "8ea5e542-2132-4a19-d614-2cc18e4429eb"
      },
      "outputs": [
        {
          "output_type": "stream",
          "name": "stdout",
          "text": [
            "=== SECTION 1: INITIAL INVENTORY ASSESSMENT ===\n",
            "Columns & dtypes:\n",
            "[Float64, String, String, String, String, String, String, Int64]\n",
            "\n",
            "Sample rows:\n",
            "shape: (10, 8)\n",
            "┌──────────────┬───────────┬───────┬─────────┬────────┬──────────┬────────┬───────┐\n",
            "│ Carat Weight ┆ Cut       ┆ Color ┆ Clarity ┆ Polish ┆ Symmetry ┆ Report ┆ Price │\n",
            "│ ---          ┆ ---       ┆ ---   ┆ ---     ┆ ---    ┆ ---      ┆ ---    ┆ ---   │\n",
            "│ f64          ┆ str       ┆ str   ┆ str     ┆ str    ┆ str      ┆ str    ┆ i64   │\n",
            "╞══════════════╪═══════════╪═══════╪═════════╪════════╪══════════╪════════╪═══════╡\n",
            "│ 1.1          ┆ Ideal     ┆ H     ┆ SI1     ┆ VG     ┆ EX       ┆ GIA    ┆ 5169  │\n",
            "│ 0.83         ┆ Ideal     ┆ H     ┆ VS1     ┆ ID     ┆ ID       ┆ AGSL   ┆ 3470  │\n",
            "│ 0.85         ┆ Ideal     ┆ H     ┆ SI1     ┆ EX     ┆ EX       ┆ GIA    ┆ 3183  │\n",
            "│ 0.91         ┆ Ideal     ┆ E     ┆ SI1     ┆ VG     ┆ VG       ┆ GIA    ┆ 4370  │\n",
            "│ 0.83         ┆ Ideal     ┆ G     ┆ SI1     ┆ EX     ┆ EX       ┆ GIA    ┆ 3171  │\n",
            "│ 1.53         ┆ Ideal     ┆ E     ┆ SI1     ┆ ID     ┆ ID       ┆ AGSL   ┆ 12791 │\n",
            "│ 1.0          ┆ Very Good ┆ D     ┆ SI1     ┆ VG     ┆ G        ┆ GIA    ┆ 5747  │\n",
            "│ 1.5          ┆ Fair      ┆ F     ┆ SI1     ┆ VG     ┆ VG       ┆ GIA    ┆ 10450 │\n",
            "│ 2.11         ┆ Ideal     ┆ H     ┆ SI1     ┆ VG     ┆ VG       ┆ GIA    ┆ 18609 │\n",
            "│ 1.05         ┆ Very Good ┆ E     ┆ VS1     ┆ VG     ┆ G        ┆ GIA    ┆ 7666  │\n",
            "└──────────────┴───────────┴───────┴─────────┴────────┴──────────┴────────┴───────┘\n"
          ]
        }
      ],
      "source": [
        "# Your code here:\n",
        "\n",
        "print(\"=== SECTION 1: INITIAL INVENTORY ASSESSMENT ===\")\n",
        "print(\"Columns & dtypes:\")\n",
        "print(df.dtypes)\n",
        "print(\"\\nSample rows:\")\n",
        "print(df.head(10))"
      ]
    },
    {
      "cell_type": "markdown",
      "metadata": {
        "id": "ahFr_JrU2ogH"
      },
      "source": [
        "### Question 2: \"What information do we track about each diamond?\"\n",
        "\n",
        "List all the characteristics we record."
      ]
    },
    {
      "cell_type": "code",
      "execution_count": 5,
      "metadata": {
        "id": "9OQqJ_tE2ogI",
        "colab": {
          "base_uri": "https://localhost:8080/"
        },
        "outputId": "c018c79b-8dfe-4574-9dde-ea823ed37041"
      },
      "outputs": [
        {
          "output_type": "stream",
          "name": "stdout",
          "text": [
            "=== Q2: Characteristics tracked for each diamond ===\n",
            "\n",
            "- carat weight [Float64]: (no description available)\n",
            "- cut [String]: Cut quality grade (e.g., Fair, Good, Very Good, Premium, Ideal).\n",
            "- color [String]: Color grade (typically D = colorless through J = light color).\n",
            "- clarity [String]: Clarity grade (e.g., I1, SI2, SI1, VS2, VS1, VVS2, VVS1, IF).\n",
            "- polish [String]: (no description available)\n",
            "- symmetry [String]: (no description available)\n",
            "- report [String]: (no description available)\n",
            "- price [Int64]: Price in U.S. dollars.\n"
          ]
        }
      ],
      "source": [
        "import polars as pl\n",
        "\n",
        "try:\n",
        "    df  # noqa: F821\n",
        "except NameError:\n",
        "    df = pl.read_csv(\"https://raw.githubusercontent.com/pycaret/pycaret/master/datasets/diamond.csv\")\n",
        "\n",
        "df = df.rename({c: c.lower() for c in df.columns})\n",
        "\n",
        "descriptions = {\n",
        "    \"carat\":  \"Weight of the diamond in carats (1 carat = 0.2 grams).\",\n",
        "    \"cut\":    \"Cut quality grade (e.g., Fair, Good, Very Good, Premium, Ideal).\",\n",
        "    \"color\":  \"Color grade (typically D = colorless through J = light color).\",\n",
        "    \"clarity\":\"Clarity grade (e.g., I1, SI2, SI1, VS2, VS1, VVS2, VVS1, IF).\",\n",
        "    \"depth\":  \"Total depth percentage: (z / mean(x, y)) × 100.\",\n",
        "    \"table\":  \"Table width as % of average diameter.\",\n",
        "    \"price\":  \"Price in U.S. dollars.\",\n",
        "    \"x\":      \"Length (mm).\",\n",
        "    \"y\":      \"Width (mm).\",\n",
        "    \"z\":      \"Depth/height (mm).\",\n",
        "}\n",
        "\n",
        "schema = list(zip(df.columns, df.dtypes))\n",
        "\n",
        "print(\"=== Q2: Characteristics tracked for each diamond ===\\n\")\n",
        "for name, dtype in schema:\n",
        "    dtype_str = str(dtype)\n",
        "    desc = descriptions.get(name, \"(no description available)\")\n",
        "    print(f\"- {name} [{dtype_str}]: {desc}\")\n"
      ]
    },
    {
      "cell_type": "markdown",
      "metadata": {
        "id": "pTpL_BeQ2ogI"
      },
      "source": [
        "### Question 3: \"When I look at one line in this database, what am I looking at?\"\n",
        "\n",
        "Explain in business terms:"
      ]
    },
    {
      "cell_type": "markdown",
      "metadata": {
        "id": "j24YFenj2ogI"
      },
      "source": [
        "**Your answer:** Each row is a single diamond in inventory with its characteristics (carat, cut, color, clarity, dimensions) and price.\n"
      ]
    },
    {
      "cell_type": "markdown",
      "metadata": {
        "id": "i6uzLQS-2ogJ"
      },
      "source": [
        "## Section 2: Strategic Business Questions (20 minutes)\n",
        "\n",
        "The CEO continues: \"Now let's get to the important questions. Our board meeting is tomorrow and I need concrete numbers.\""
      ]
    },
    {
      "cell_type": "markdown",
      "metadata": {
        "id": "lT4WgK3x2ogJ"
      },
      "source": [
        "### Question 4: \"We're considering expanding our storage facilities. How many total carats do we have in inventory? I need to know if our vaults can handle the weight.\"\n",
        "\n",
        "Think about what measurement would help answer this."
      ]
    },
    {
      "cell_type": "code",
      "source": [
        "# Q4: Total carats and weight of inventory\n",
        "import polars as pl\n",
        "\n",
        "# Load dataset if not already in memory\n",
        "try:\n",
        "    df\n",
        "except NameError:\n",
        "    df = pl.read_csv(\"https://raw.githubusercontent.com/pycaret/pycaret/master/datasets/diamond.csv\")\n",
        "    df = df.rename({c: c.lower() for c in df.columns})\n",
        "\n",
        "# Calculate totals\n",
        "total_carat = df.select(pl.col(\"carat weight\").sum().alias(\"total_carats\"))\n",
        "\n",
        "# Convert to grams and kilograms (1 carat = 0.2 grams)\n",
        "weights = total_carat.with_columns(\n",
        "    (pl.col(\"total_carats\") * 0.2).alias(\"total_grams\"),\n",
        "    (pl.col(\"total_carats\") * 0.2 / 1000).alias(\"total_kilograms\")\n",
        ")\n",
        "\n",
        "print(\"=== Q4: Inventory Weight ===\")\n",
        "print(weights)"
      ],
      "metadata": {
        "colab": {
          "base_uri": "https://localhost:8080/"
        },
        "id": "8o6_PyxnjblC",
        "outputId": "58605a9b-51b0-4135-d595-d13f63999f0e"
      },
      "execution_count": 10,
      "outputs": [
        {
          "output_type": "stream",
          "name": "stdout",
          "text": [
            "=== Q4: Inventory Weight ===\n",
            "shape: (1, 3)\n",
            "┌──────────────┬─────────────┬─────────────────┐\n",
            "│ total_carats ┆ total_grams ┆ total_kilograms │\n",
            "│ ---          ┆ ---         ┆ ---             │\n",
            "│ f64          ┆ f64         ┆ f64             │\n",
            "╞══════════════╪═════════════╪═════════════════╡\n",
            "│ 8007.12      ┆ 1601.424    ┆ 1.601424        │\n",
            "└──────────────┴─────────────┴─────────────────┘\n"
          ]
        }
      ]
    },
    {
      "cell_type": "markdown",
      "metadata": {
        "id": "74F1hJAU2ogK"
      },
      "source": [
        "### Question 5: \"Our new marketing campaign claims we have 'the widest variety of cuts in the industry.' Can you verify this?\"\n",
        "\n",
        "The CEO wants to know about variety, not quantity."
      ]
    },
    {
      "cell_type": "code",
      "execution_count": 12,
      "metadata": {
        "id": "IWA5ekcc2ogK",
        "colab": {
          "base_uri": "https://localhost:8080/"
        },
        "outputId": "7f51144f-162a-4f74-9e82-9baa28c8019e"
      },
      "outputs": [
        {
          "output_type": "stream",
          "name": "stdout",
          "text": [
            "=== Q5: Variety of Cuts ===\n",
            "Unique cut grades in inventory:\n",
            "shape: (5, 1)\n",
            "┌─────────────────┐\n",
            "│ cut             │\n",
            "│ ---             │\n",
            "│ str             │\n",
            "╞═════════════════╡\n",
            "│ Good            │\n",
            "│ Signature-Ideal │\n",
            "│ Very Good       │\n",
            "│ Fair            │\n",
            "│ Ideal           │\n",
            "└─────────────────┘\n"
          ]
        }
      ],
      "source": [
        "# Q5: Variety of cuts\n",
        "print(\"=== Q5: Variety of Cuts ===\")\n",
        "unique_cuts = df.select(pl.col(\"cut\").unique())\n",
        "print(\"Unique cut grades in inventory:\")\n",
        "print(unique_cuts)"
      ]
    },
    {
      "cell_type": "markdown",
      "metadata": {
        "id": "x_bh3Reb2ogK"
      },
      "source": [
        "### Question 6: \"I'm meeting with our insurance company. They need to know our price exposure - what's our most and least valuable diamond?\""
      ]
    },
    {
      "cell_type": "code",
      "execution_count": 14,
      "metadata": {
        "id": "m4_4ICGb2ogL",
        "colab": {
          "base_uri": "https://localhost:8080/"
        },
        "outputId": "af4212e0-7bba-439b-90ef-595f7777f4bb"
      },
      "outputs": [
        {
          "output_type": "stream",
          "name": "stdout",
          "text": [
            "=== Q6: Price Exposure ===\n",
            "Most valuable diamond (max price):\n",
            "shape: (1, 1)\n",
            "┌───────────┐\n",
            "│ max_price │\n",
            "│ ---       │\n",
            "│ i64       │\n",
            "╞═══════════╡\n",
            "│ 101561    │\n",
            "└───────────┘\n",
            "\n",
            "Least valuable diamond (min price):\n",
            "shape: (1, 1)\n",
            "┌───────────┐\n",
            "│ min_price │\n",
            "│ ---       │\n",
            "│ i64       │\n",
            "╞═══════════╡\n",
            "│ 2184      │\n",
            "└───────────┘\n"
          ]
        }
      ],
      "source": [
        "# Q6: Most and least valuable diamond\n",
        "print(\"=== Q6: Price Exposure ===\")\n",
        "\n",
        "max_price = df.select(pl.col(\"price\").max().alias(\"max_price\"))\n",
        "min_price = df.select(pl.col(\"price\").min().alias(\"min_price\"))\n",
        "\n",
        "print(\"Most valuable diamond (max price):\")\n",
        "print(max_price)\n",
        "print(\"\\nLeast valuable diamond (min price):\")\n",
        "print(min_price)"
      ]
    },
    {
      "cell_type": "markdown",
      "metadata": {
        "id": "qcJqRebD2ogL"
      },
      "source": [
        "### Question 7: \"Which color grades should we focus on in our premium line? I need typical prices across our color spectrum.\"\n",
        "\n",
        "The CEO wants to understand pricing patterns."
      ]
    },
    {
      "cell_type": "code",
      "execution_count": 15,
      "metadata": {
        "id": "NSv4PvaO2ogL",
        "colab": {
          "base_uri": "https://localhost:8080/"
        },
        "outputId": "e67a0cc1-b610-491d-ae7f-926eed00e5b7"
      },
      "outputs": [
        {
          "output_type": "stream",
          "name": "stdout",
          "text": [
            "=== Q7: Pricing Patterns by Color ===\n",
            "Typical prices across color grades:\n",
            "shape: (6, 2)\n",
            "┌───────┬───────────────┐\n",
            "│ color ┆ average_price │\n",
            "│ ---   ┆ ---           │\n",
            "│ str   ┆ f64           │\n",
            "╞═══════╪═══════════════╡\n",
            "│ D     ┆ 15255.783661  │\n",
            "│ E     ┆ 11539.190231  │\n",
            "│ F     ┆ 12712.241856  │\n",
            "│ G     ┆ 12520.050633  │\n",
            "│ H     ┆ 10487.347544  │\n",
            "│ I     ┆ 8989.636364   │\n",
            "└───────┴───────────────┘\n"
          ]
        }
      ],
      "source": [
        "# Q7: Typical prices across color grades\n",
        "print(\"=== Q7: Pricing Patterns by Color ===\")\n",
        "\n",
        "# Calculate the average price for each color grade\n",
        "avg_price_by_color = df.group_by(\"color\").agg(pl.col(\"price\").mean().alias(\"average_price\")).sort(\"color\")\n",
        "\n",
        "print(\"Typical prices across color grades:\")\n",
        "print(avg_price_by_color)"
      ]
    },
    {
      "cell_type": "markdown",
      "metadata": {
        "id": "xdwbBQ9S2ogL"
      },
      "source": [
        "**Reflection:** After analyzing by color, how has your view of the data changed? What does each row in your result represent now?"
      ]
    },
    {
      "cell_type": "markdown",
      "metadata": {
        "id": "zz8_qpaU2ogM"
      },
      "source": [
        "**Your answer:**  Instead of seeing individual diamond-level details, I’m looking at summarized, category-level trends. I can now compare how different colors perform in terms of price, inventory count, or other metrics, without being distracted by row-to-row variation."
      ]
    },
    {
      "cell_type": "markdown",
      "metadata": {
        "id": "zcxcDgh92ogM"
      },
      "source": [
        "## Section 3: Advanced Strategic Analysis (10 minutes)\n",
        "\n",
        "The CEO leans forward: \"These next questions will shape our strategy for next year.\""
      ]
    },
    {
      "cell_type": "markdown",
      "metadata": {
        "id": "C7U4WZ_Z2ogM"
      },
      "source": [
        "### Question 8: \"We're thinking of specializing in certain clarity grades. For our investor deck, I need a complete breakdown showing: how many diamonds we have in each clarity grade, their typical price, and the total carats we're holding for each grade.\""
      ]
    },
    {
      "cell_type": "code",
      "execution_count": 16,
      "metadata": {
        "id": "OViTlWdy2ogM",
        "colab": {
          "base_uri": "https://localhost:8080/"
        },
        "outputId": "31a3d95a-98a6-4473-dc0b-6d0e4e5861e1"
      },
      "outputs": [
        {
          "output_type": "stream",
          "name": "stdout",
          "text": [
            "=== Q8: Breakdown by Clarity Grade ===\n",
            "shape: (7, 4)\n",
            "┌─────────┬────────────────────┬───────────────┬──────────────┐\n",
            "│ clarity ┆ number_of_diamonds ┆ typical_price ┆ total_carats │\n",
            "│ ---     ┆ ---                ┆ ---           ┆ ---          │\n",
            "│ str     ┆ u32                ┆ f64           ┆ f64          │\n",
            "╞═════════╪════════════════════╪═══════════════╪══════════════╡\n",
            "│ FL      ┆ 4                  ┆ 63776.0       ┆ 7.87         │\n",
            "│ IF      ┆ 219                ┆ 22105.844749  ┆ 316.0        │\n",
            "│ SI1     ┆ 2059               ┆ 8018.864012   ┆ 2563.69      │\n",
            "│ VS1     ┆ 1192               ┆ 13694.113255  ┆ 1682.74      │\n",
            "│ VS2     ┆ 1575               ┆ 11809.053333  ┆ 2170.81      │\n",
            "│ VVS1    ┆ 285                ┆ 16845.680702  ┆ 389.43       │\n",
            "│ VVS2    ┆ 666                ┆ 14142.177177  ┆ 876.58       │\n",
            "└─────────┴────────────────────┴───────────────┴──────────────┘\n"
          ]
        },
        {
          "output_type": "stream",
          "name": "stderr",
          "text": [
            "/tmp/ipython-input-3825966281.py:6: DeprecationWarning: `pl.count()` is deprecated. Please use `pl.len()` instead.\n",
            "  pl.count().alias(\"number_of_diamonds\"),\n"
          ]
        }
      ],
      "source": [
        "# Q8: Breakdown by clarity grade\n",
        "print(\"=== Q8: Breakdown by Clarity Grade ===\")\n",
        "\n",
        "# Group by clarity and calculate count, average price, and total carats\n",
        "clarity_breakdown = df.group_by(\"clarity\").agg([\n",
        "    pl.count().alias(\"number_of_diamonds\"),\n",
        "    pl.col(\"price\").mean().alias(\"typical_price\"),\n",
        "    pl.col(\"carat weight\").sum().alias(\"total_carats\")\n",
        "]).sort(\"clarity\") # Sorting by clarity for better readability\n",
        "\n",
        "print(clarity_breakdown)"
      ]
    },
    {
      "cell_type": "markdown",
      "metadata": {
        "id": "9u3TN6Pq2ogN"
      },
      "source": [
        "### Question 9: \"My luxury competitor claims they have the best prices for every cut-color combination. Show me our pricing structure across these combinations - I want to see where we're competitive.\""
      ]
    },
    {
      "cell_type": "code",
      "execution_count": 17,
      "metadata": {
        "id": "M22LVYLX2ogN",
        "colab": {
          "base_uri": "https://localhost:8080/"
        },
        "outputId": "e5f8638c-7817-4f18-bc1e-409202c654d8"
      },
      "outputs": [
        {
          "output_type": "stream",
          "name": "stdout",
          "text": [
            "=== Q9: Pricing Structure by Cut and Color ===\n",
            "shape: (30, 3)\n",
            "┌───────────┬───────┬───────────────┐\n",
            "│ cut       ┆ color ┆ average_price │\n",
            "│ ---       ┆ ---   ┆ ---           │\n",
            "│ str       ┆ str   ┆ f64           │\n",
            "╞═══════════╪═══════╪═══════════════╡\n",
            "│ Fair      ┆ D     ┆ 6058.25       │\n",
            "│ Fair      ┆ E     ┆ 5370.625      │\n",
            "│ Fair      ┆ F     ┆ 6063.625      │\n",
            "│ Fair      ┆ G     ┆ 7345.52381    │\n",
            "│ Fair      ┆ H     ┆ 5908.5        │\n",
            "│ …         ┆ …     ┆ …             │\n",
            "│ Very Good ┆ E     ┆ 12101.910217  │\n",
            "│ Very Good ┆ F     ┆ 12413.905495  │\n",
            "│ Very Good ┆ G     ┆ 12354.013841  │\n",
            "│ Very Good ┆ H     ┆ 10056.106132  │\n",
            "│ Very Good ┆ I     ┆ 8930.031332   │\n",
            "└───────────┴───────┴───────────────┘\n"
          ]
        }
      ],
      "source": [
        "# Q9: Pricing structure across cut-color combinations\n",
        "print(\"=== Q9: Pricing Structure by Cut and Color ===\")\n",
        "\n",
        "# Group by cut and color and calculate the average price\n",
        "pricing_by_cut_color = df.group_by([\"cut\", \"color\"]).agg(\n",
        "    pl.col(\"price\").mean().alias(\"average_price\")\n",
        ").sort([\"cut\", \"color\"]) # Sorting for better readability\n",
        "\n",
        "print(pricing_by_cut_color)"
      ]
    },
    {
      "cell_type": "markdown",
      "metadata": {
        "id": "J9sCaOdV2ogN"
      },
      "source": [
        "**Reflection:** How specific is your analysis now? What level of detail does each row represent?"
      ]
    },
    {
      "cell_type": "markdown",
      "metadata": {
        "id": "fguJHmz92ogO"
      },
      "source": [
        "**Your answer:** New grain = each row is now filtered by cut, then color, then finding the average price for each grouping"
      ]
    },
    {
      "cell_type": "markdown",
      "metadata": {
        "id": "1wCEySof2ogO"
      },
      "source": [
        "### Question 10: URGENT - \"Our biggest client is interested in purchasing entire inventory segments. They asked: 'Which color-cut combinations represent your highest total inventory value?' Show me the top 5 most valuable inventory segments by total worth, and include how many diamonds are in each segment.\"\n",
        "\n",
        "This is critical for tomorrow's negotiation."
      ]
    },
    {
      "cell_type": "code",
      "execution_count": 18,
      "metadata": {
        "id": "N5zc8RFd2ogO",
        "colab": {
          "base_uri": "https://localhost:8080/"
        },
        "outputId": "62b0b601-9908-4df5-c861-791b4972a708"
      },
      "outputs": [
        {
          "output_type": "stream",
          "name": "stdout",
          "text": [
            "=== Q10: Top 5 Most Valuable Inventory Segments ===\n",
            "shape: (5, 4)\n",
            "┌───────┬───────────┬─────────────┬────────────────────┐\n",
            "│ color ┆ cut       ┆ total_value ┆ number_of_diamonds │\n",
            "│ ---   ┆ ---       ┆ ---         ┆ ---                │\n",
            "│ str   ┆ str       ┆ i64         ┆ u32                │\n",
            "╞═══════╪═══════════╪═════════════╪════════════════════╡\n",
            "│ G     ┆ Ideal     ┆ 9363514     ┆ 690                │\n",
            "│ G     ┆ Very Good ┆ 7140620     ┆ 578                │\n",
            "│ F     ┆ Very Good ┆ 5648327     ┆ 455                │\n",
            "│ F     ┆ Ideal     ┆ 5346782     ┆ 363                │\n",
            "│ H     ┆ Ideal     ┆ 5279687     ┆ 458                │\n",
            "└───────┴───────────┴─────────────┴────────────────────┘\n"
          ]
        }
      ],
      "source": [
        "# Q10: Top 5 most valuable inventory segments by color-cut combination\n",
        "print(\"=== Q10: Top 5 Most Valuable Inventory Segments ===\")\n",
        "\n",
        "# Group by color and cut, calculate total value and number of diamonds\n",
        "inventory_value_by_cut_color = df.group_by([\"color\", \"cut\"]).agg([\n",
        "    pl.sum(\"price\").alias(\"total_value\"),\n",
        "    pl.len().alias(\"number_of_diamonds\")\n",
        "])\n",
        "\n",
        "# Sort by total value in descending order and take the top 5\n",
        "top_5_segments = inventory_value_by_cut_color.sort(\"total_value\", descending=True).head(5)\n",
        "\n",
        "print(top_5_segments)"
      ]
    },
    {
      "cell_type": "markdown",
      "metadata": {
        "id": "nVEI2QvE2ogP"
      },
      "source": [
        "## Debrief\n",
        "\n",
        "Congratulations! You've just completed your first day as the diamond company's data analyst.\n",
        "\n",
        "Remember:\n",
        "- CEOs speak in business language, not technical terms\n",
        "- Always understand what each row represents before analyzing\n",
        "- Business questions contain clues about which operations to use"
      ]
    }
  ],
  "metadata": {
    "kernelspec": {
      "display_name": "Python 3",
      "language": "python",
      "name": "python3"
    },
    "language_info": {
      "codemirror_mode": {
        "name": "ipython",
        "version": 3
      },
      "file_extension": ".py",
      "mimetype": "text/x-python",
      "name": "python",
      "nbconvert_exporter": "python",
      "pygments_lexer": "ipython3",
      "version": "3.12.0"
    },
    "colab": {
      "provenance": []
    }
  },
  "nbformat": 4,
  "nbformat_minor": 0
}